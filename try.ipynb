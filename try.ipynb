{
 "cells": [
  {
   "cell_type": "code",
   "execution_count": 1,
   "metadata": {
    "scrolled": true
   },
   "outputs": [
    {
     "name": "stdout",
     "output_type": "stream",
     "text": [
      "jw02219-o005_t006_miri_ch1-short_s3d.fits\n",
      "jw02219-o005_t006_miri_ch2-short_s3d.fits\n",
      "jw02219-o005_t006_miri_ch3-short_s3d.fits\n",
      "jw02219-o005_t006_miri_ch4-short_s3d.fits\n",
      "jw02219-o010_t006_miri_ch1-medium_s3d.fits\n",
      "jw02219-o010_t006_miri_ch2-medium_s3d.fits\n",
      "jw02219-o010_t006_miri_ch3-medium_s3d.fits\n",
      "jw02219-o010_t006_miri_ch4-medium_s3d.fits\n",
      "jw02219-o015_t006_miri_ch1-long_s3d.fits\n",
      "jw02219-o015_t006_miri_ch2-long_s3d.fits\n",
      "jw02219-o015_t006_miri_ch3-long_s3d.fits\n",
      "jw02219-o015_t006_miri_ch4-long_s3d.fits\n"
     ]
    }
   ],
   "source": [
    "!ls data/M83_files"
   ]
  },
  {
   "cell_type": "code",
   "execution_count": 48,
   "metadata": {
    "scrolled": true
   },
   "outputs": [
    {
     "name": "stdout",
     "output_type": "stream",
     "text": [
      " 96M\tdata/try_files/jw01717-o006_t010_miri_ch3-shortmediumlong_s3d.fits\n",
      " 96M\tdata/try_files/jw02730-o004_t014_miri_ch3-shortmediumlong_s3d.fits\n",
      " 80M\tdata/try_files/jw01717-o008_t004_miri_ch3-shortmediumlong_s3d.fits\n",
      " 25M\tdata/try_files/jw02219-o005_t006_miri_ch3-short_s3d.fits\n",
      " 80M\tdata/try_files/jw01717-o004_t008_miri_ch3-shortmediumlong_s3d.fits\n",
      " 96M\tdata/try_files/jw01050-o008_t011_miri_ch3-shortmediumlong_s3d.fits\n",
      " 22M\tdata/try_files/jw01335-o012_t006_miri_ch3-short_s3d.fits\n",
      " 96M\tdata/try_files/jw02260-o005_t005_miri_ch3-shortmediumlong_s3d.fits\n",
      " 17M\tdata/try_files/jw01261-o002_t004_miri_ch3-short_s3d.fits\n",
      " 50M\tdata/try_files/jw01264-o014_t012_miri_ch3-shortmedium_s3d.fits\n",
      " 59M\tdata/try_files/jw01523-o002_t003_miri_ch3-shortmediumlong_s3d.fits\n",
      " 17M\tdata/try_files/jw01335-o010_t009_miri_ch3-short_s3d.fits\n",
      " 96M\tdata/try_files/jw01050-o010_t011_miri_ch3-shortmediumlong_s3d.fits\n",
      " 54M\tdata/try_files/jw01717-o010_t006_miri_ch3-shortmediumlong_s3d.fits\n",
      " 31M\tdata/try_files/jw01023-o017_t002_miri_ch3-short_s3d.fits\n",
      " 42M\tdata/try_files/jw01264-c1003_t012_miri_ch3-shortmedium_s3d.fits\n",
      " 24M\tdata/try_files/jw01566-o013_t007_miri_ch3-short_s3d.fits\n",
      " 80M\tdata/try_files/jw02732-o005_t003_miri_ch3-shortmediumlong_s3d.fits\n",
      " 80M\tdata/try_files/jw01049-o004_t002_miri_ch3-shortmediumlong_s3d.fits\n",
      " 29M\tdata/try_files/jw01039-o006_t002_miri_ch3-short_s3d.fits\n",
      " 80M\tdata/try_files/jw02729-o004_t004_miri_ch3-shortmediumlong_s3d.fits\n",
      "1.2G\tdata/try_files\n"
     ]
    }
   ],
   "source": [
    "!du -h -a data/try_files"
   ]
  },
  {
   "cell_type": "code",
   "execution_count": 2,
   "metadata": {},
   "outputs": [],
   "source": [
    "from jdaviz import Cubeviz"
   ]
  },
  {
   "cell_type": "code",
   "execution_count": 41,
   "metadata": {},
   "outputs": [
    {
     "data": {
      "application/vnd.jupyter.widget-view+json": {
       "model_id": "1c9ae907c24a47268ab2121530b2685c",
       "version_major": 2,
       "version_minor": 0
      },
      "text/plain": [
       "Application(config='cubeviz', docs_link='https://jdaviz.readthedocs.io/en/latest/cubeviz/index.html', events=[…"
      ]
     },
     "metadata": {},
     "output_type": "display_data"
    }
   ],
   "source": [
    "cubeviz = Cubeviz()\n",
    "cubeviz.load_data(\"data/try_files/jw02729-o004_t004_miri_ch3-shortmediumlong_s3d.fits\")\n",
    "cubeviz.show()"
   ]
  },
  {
   "cell_type": "code",
   "execution_count": 3,
   "metadata": {},
   "outputs": [
    {
     "data": {
      "application/vnd.jupyter.widget-view+json": {
       "model_id": "3dd44ca7a8384134a9d3857227239d93",
       "version_major": 2,
       "version_minor": 0
      },
      "text/plain": [
       "interactive(children=(Dropdown(description='Select a file:', options=('jw02219-o005_t006_miri_ch4-short_s3d.fi…"
      ]
     },
     "metadata": {},
     "output_type": "display_data"
    },
    {
     "data": {
      "text/plain": [
       "<function __main__.load_and_show(file_name)>"
      ]
     },
     "execution_count": 3,
     "metadata": {},
     "output_type": "execute_result"
    }
   ],
   "source": [
    "import os\n",
    "from jdaviz import Cubeviz\n",
    "from ipywidgets import interact\n",
    "import ipywidgets as widgets\n",
    "import numpy as np\n",
    "\n",
    "# Create a function to load and show a file in Cubeviz\n",
    "def load_and_show(file_name):\n",
    "    file_path = os.path.join(data_dir, file_name)\n",
    "    global cubeviz\n",
    "    cubeviz = Cubeviz()\n",
    "    cubeviz.load_data(file_path)\n",
    "    print(file_name)\n",
    "    # dir_path = 'output/figure/try/' + file_name + '/'\n",
    "    # if not os.path.exists(dir_path):\n",
    "    #     os.makedirs(dir_path)\n",
    "    cubeviz.show()\n",
    "\n",
    "# Directory containing the files\n",
    "data_dir = \"data/M83_files\"\n",
    "\n",
    "ob_list = np.loadtxt('data/M83_filenames.txt', dtype = str)\n",
    "\n",
    "# Get a list of files in the directory\n",
    "file_list = np.array([f for f in os.listdir(data_dir) if f.endswith(\".fits\")])\n",
    "file_list = file_list[np.isin(file_list, ob_list)]\n",
    "\n",
    "# Create an interactive widget for selecting files\n",
    "file_selector = widgets.Dropdown(\n",
    "    options=file_list,\n",
    "    description='Select a file:',\n",
    "    disabled=False,\n",
    ")\n",
    "\n",
    "# Use the interact function to create the interactive interface\n",
    "interact(load_and_show, file_name=file_selector)\n"
   ]
  },
  {
   "cell_type": "code",
   "execution_count": 16,
   "metadata": {},
   "outputs": [],
   "source": [
    "from astropy import units as u\n",
    "from specutils.manipulation import extract_region\n",
    "import matplotlib.pyplot as plt"
   ]
  },
  {
   "cell_type": "code",
   "execution_count": 35,
   "metadata": {},
   "outputs": [
    {
     "name": "stderr",
     "output_type": "stream",
     "text": [
      "WARNING: AstropyDeprecationWarning: The get_data_from_viewer function is deprecated and may be removed in a future version.\n",
      "        Use viz_helper.get_data instead. [warnings]\n",
      "WARNING:astropy:AstropyDeprecationWarning: The get_data_from_viewer function is deprecated and may be removed in a future version.\n",
      "        Use viz_helper.get_data instead.\n"
     ]
    },
    {
     "data": {
      "text/plain": [
       "<Spectrum1D(flux=<Quantity [20164.60390697, 20520.60961604, 20460.13381159, ...,\n",
       "           90362.55361557, 89335.00901794, 92014.93245316] MJy / sr>, spectral_axis=<SpectralAxis \n",
       "   (observer to target:\n",
       "      radial_velocity=0.0 km / s\n",
       "      redshift=0.0)\n",
       "  [11.55125019, 11.55375019, 11.55625019, ..., 17.97375005, 17.97625005,\n",
       "   17.97875005] um>)>"
      ]
     },
     "execution_count": 35,
     "metadata": {},
     "output_type": "execute_result"
    }
   ],
   "source": [
    "spectrum_total = cubeviz.app.get_data_from_viewer('spectrum-viewer', 'Subset 1')\n",
    "spectrum_total"
   ]
  },
  {
   "cell_type": "code",
   "execution_count": 30,
   "metadata": {},
   "outputs": [],
   "source": [
    "regions = cubeviz.specviz.get_spectral_regions()\n",
    "\n",
    "# extract the line regions\n",
    "if regions and \"Subset 2\" in regions.keys():\n",
    "    line_region = regions[\"Subset 2\"]\n",
    "else:\n",
    "    print('Subset 2 not in regions')\n",
    "\n",
    "# extract the continuum regions\n",
    "if regions and \"Subset 3\" in regions.keys():\n",
    "    continuum_region = regions[\"Subset 3\"]\n",
    "else:\n",
    "    print('Subset 3 not in regions')"
   ]
  },
  {
   "cell_type": "code",
   "execution_count": 31,
   "metadata": {},
   "outputs": [],
   "source": [
    "spec_line = extract_region(spectrum_total, line_region)\n",
    "spec_continuum = extract_region(spectrum_total, continuum_region)"
   ]
  },
  {
   "cell_type": "code",
   "execution_count": 32,
   "metadata": {},
   "outputs": [
    {
     "data": {
      "text/plain": [
       "[<matplotlib.lines.Line2D at 0x7f9d7011a1c0>]"
      ]
     },
     "execution_count": 32,
     "metadata": {},
     "output_type": "execute_result"
    },
    {
     "data": {
      "image/png": "[encoded data removed]",
      "text/plain": [
       "<Figure size 432x288 with 1 Axes>"
      ]
     },
     "metadata": {
      "needs_background": "light"
     },
     "output_type": "display_data"
    }
   ],
   "source": [
    "plt.figure()\n",
    "plt.plot(spec_line.spectral_axis, spec_line.flux, color = 'k')"
   ]
  },
  {
   "cell_type": "code",
   "execution_count": 33,
   "metadata": {},
   "outputs": [
    {
     "name": "stderr",
     "output_type": "stream",
     "text": [
      "WARNING: AstropyDeprecationWarning: The get_data_from_viewer function is deprecated and may be removed in a future version.\n",
      "        Use viz_helper.get_data instead. [warnings]\n",
      "WARNING:astropy:AstropyDeprecationWarning: The get_data_from_viewer function is deprecated and may be removed in a future version.\n",
      "        Use viz_helper.get_data instead.\n"
     ]
    },
    {
     "data": {
      "text/plain": [
       "(39, 43, 2572)"
      ]
     },
     "execution_count": 33,
     "metadata": {},
     "output_type": "execute_result"
    }
   ],
   "source": [
    "cont_psf_cube = cubeviz.app.get_data_from_viewer('uncert-viewer', 'LinFitCube')\n",
    "np.shape(cont_psf_cube)"
   ]
  },
  {
   "cell_type": "code",
   "execution_count": null,
   "metadata": {},
   "outputs": [],
   "source": []
  }
 ],
 "metadata": {
  "kernelspec": {
   "display_name": "Python 3 (ipykernel)",
   "language": "python",
   "name": "python3"
  },
  "language_info": {
   "codemirror_mode": {
    "name": "ipython",
    "version": 3
   },
   "file_extension": ".py",
   "mimetype": "text/x-python",
   "name": "python",
   "nbconvert_exporter": "python",
   "pygments_lexer": "ipython3",
   "version": "3.9.7"
  }
 },
 "nbformat": 4,
 "nbformat_minor": 4
}
